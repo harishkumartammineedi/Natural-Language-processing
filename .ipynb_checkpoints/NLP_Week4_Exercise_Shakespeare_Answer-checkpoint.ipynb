{
 "cells": [
  {
   "cell_type": "code",
   "execution_count": null,
   "metadata": {
    "colab": {},
    "colab_type": "code",
    "id": "zX4Kg8DUTKWO"
   },
   "outputs": [],
   "source": [
    "#@title Licensed under the Apache License, Version 2.0 (the \"License\");\n",
    "# you may not use this file except in compliance with the License.\n",
    "# You may obtain a copy of the License at\n",
    "#\n",
    "# https://www.apache.org/licenses/LICENSE-2.0\n",
    "#\n",
    "# Unless required by applicable law or agreed to in writing, software\n",
    "# distributed under the License is distributed on an \"AS IS\" BASIS,\n",
    "# WITHOUT WARRANTIES OR CONDITIONS OF ANY KIND, either express or implied.\n",
    "# See the License for the specific language governing permissions and\n",
    "# limitations under the License."
   ]
  },
  {
   "cell_type": "code",
   "execution_count": 2,
   "metadata": {
    "colab": {},
    "colab_type": "code",
    "id": "BOwsuGQQY9OL"
   },
   "outputs": [],
   "source": [
    "from tensorflow.keras.preprocessing.sequence import pad_sequences\n",
    "from tensorflow.keras.layers import Embedding, LSTM, Dense, Dropout, Bidirectional\n",
    "from tensorflow.keras.preprocessing.text import Tokenizer\n",
    "from tensorflow.keras.models import Sequential\n",
    "from tensorflow.keras.optimizers import Adam\n",
    "from tensorflow.keras import regularizers\n",
    "import tensorflow.keras.utils as ku \n",
    "import numpy as np "
   ]
  },
  {
   "cell_type": "code",
   "execution_count": 3,
   "metadata": {
    "colab": {
     "base_uri": "https://localhost:8080/",
     "height": 228
    },
    "colab_type": "code",
    "id": "PRnDnCW-Z7qv",
    "outputId": "fc1e27d8-7fcb-4f1b-f62c-be95329b993b"
   },
   "outputs": [
    {
     "name": "stdout",
     "output_type": "stream",
     "text": [
      "--2020-09-19 04:36:57--  https://storage.googleapis.com/laurencemoroney-blog.appspot.com/sonnets.txt\n",
      "Resolving storage.googleapis.com (storage.googleapis.com)... 172.253.117.128, 74.125.142.128, 74.125.195.128, ...\n",
      "Connecting to storage.googleapis.com (storage.googleapis.com)|172.253.117.128|:443... connected.\n",
      "HTTP request sent, awaiting response... 200 OK\n",
      "Length: 93578 (91K) [text/plain]\n",
      "Saving to: ‘/tmp/sonnets.txt’\n",
      "\n",
      "\r",
      "/tmp/sonnets.txt      0%[                    ]       0  --.-KB/s               \r",
      "/tmp/sonnets.txt    100%[===================>]  91.38K  --.-KB/s    in 0.001s  \n",
      "\n",
      "2020-09-19 04:36:57 (85.9 MB/s) - ‘/tmp/sonnets.txt’ saved [93578/93578]\n",
      "\n"
     ]
    }
   ],
   "source": [
    "tokenizer = Tokenizer()\n",
    "!wget --no-check-certificate \\\n",
    "    https://storage.googleapis.com/laurencemoroney-blog.appspot.com/sonnets.txt \\\n",
    "    -O /tmp/sonnets.txt\n",
    "data = open('/tmp/sonnets.txt').read()\n",
    "\n",
    "corpus = data.lower().split(\"\\n\")\n",
    "\n",
    "\n",
    "tokenizer.fit_on_texts(corpus)\n",
    "total_words = len(tokenizer.word_index) + 1\n",
    "\n",
    "# create input sequences using list of tokens\n",
    "input_sequences = []\n",
    "for line in corpus:\n",
    "\ttoken_list = tokenizer.texts_to_sequences([line])[0]\n",
    "\tfor i in range(1, len(token_list)):\n",
    "\t\tn_gram_sequence = token_list[:i+1]\n",
    "\t\tinput_sequences.append(n_gram_sequence)\n",
    "\n",
    "\n",
    "# pad sequences \n",
    "max_sequence_len = max([len(x) for x in input_sequences])\n",
    "input_sequences = np.array(pad_sequences(input_sequences, maxlen=max_sequence_len, padding='pre'))\n",
    "\n",
    "# create predictors and label\n",
    "predictors, label = input_sequences[:,:-1],input_sequences[:,-1]\n",
    "\n",
    "label = ku.to_categorical(label, num_classes=total_words)"
   ]
  },
  {
   "cell_type": "code",
   "execution_count": 4,
   "metadata": {
    "colab": {
     "base_uri": "https://localhost:8080/",
     "height": 381
    },
    "colab_type": "code",
    "id": "w9vH8Y59ajYL",
    "outputId": "3a02d823-0753-4cc4-ae25-014425a4d112"
   },
   "outputs": [
    {
     "name": "stdout",
     "output_type": "stream",
     "text": [
      "Model: \"sequential\"\n",
      "_________________________________________________________________\n",
      "Layer (type)                 Output Shape              Param #   \n",
      "=================================================================\n",
      "embedding (Embedding)        (None, 10, 100)           321100    \n",
      "_________________________________________________________________\n",
      "bidirectional (Bidirectional (None, 10, 300)           301200    \n",
      "_________________________________________________________________\n",
      "dropout (Dropout)            (None, 10, 300)           0         \n",
      "_________________________________________________________________\n",
      "lstm_1 (LSTM)                (None, 100)               160400    \n",
      "_________________________________________________________________\n",
      "dense (Dense)                (None, 1605)              162105    \n",
      "_________________________________________________________________\n",
      "dense_1 (Dense)              (None, 3211)              5156866   \n",
      "=================================================================\n",
      "Total params: 6,101,671\n",
      "Trainable params: 6,101,671\n",
      "Non-trainable params: 0\n",
      "_________________________________________________________________\n",
      "None\n"
     ]
    }
   ],
   "source": [
    "model = Sequential()\n",
    "model.add(Embedding(total_words, 100, input_length=max_sequence_len-1))\n",
    "model.add(Bidirectional(LSTM(150, return_sequences = True)))\n",
    "model.add(Dropout(0.2))\n",
    "model.add(LSTM(100))\n",
    "model.add(Dense(total_words/2, activation='relu', kernel_regularizer=regularizers.l2(0.01)))\n",
    "model.add(Dense(total_words, activation='softmax'))\n",
    "model.compile(loss='categorical_crossentropy', optimizer='adam', metrics=['accuracy'])\n",
    "print(model.summary())\n"
   ]
  },
  {
   "cell_type": "code",
   "execution_count": 6,
   "metadata": {
    "colab": {
     "base_uri": "https://localhost:8080/",
     "height": 1000
    },
    "colab_type": "code",
    "id": "AIg2f1HBxqof",
    "outputId": "71318055-4e3a-4c61-807e-36fe9a75acfe"
   },
   "outputs": [
    {
     "name": "stdout",
     "output_type": "stream",
     "text": [
      "Epoch 1/100\n",
      "484/484 [==============================] - 6s 12ms/step - loss: 1.1185 - accuracy: 0.8022\n",
      "Epoch 2/100\n",
      "484/484 [==============================] - 6s 12ms/step - loss: 1.1020 - accuracy: 0.8053\n",
      "Epoch 3/100\n",
      "484/484 [==============================] - 6s 12ms/step - loss: 1.0890 - accuracy: 0.8085\n",
      "Epoch 4/100\n",
      "484/484 [==============================] - 6s 12ms/step - loss: 1.0811 - accuracy: 0.8084\n",
      "Epoch 5/100\n",
      "484/484 [==============================] - 6s 12ms/step - loss: 1.0599 - accuracy: 0.8134\n",
      "Epoch 6/100\n",
      "484/484 [==============================] - 6s 12ms/step - loss: 1.0829 - accuracy: 0.8058\n",
      "Epoch 7/100\n",
      "484/484 [==============================] - 6s 12ms/step - loss: 1.0712 - accuracy: 0.8090\n",
      "Epoch 8/100\n",
      "484/484 [==============================] - 6s 12ms/step - loss: 1.0612 - accuracy: 0.8130\n",
      "Epoch 9/100\n",
      "484/484 [==============================] - 6s 12ms/step - loss: 1.0524 - accuracy: 0.8131\n",
      "Epoch 10/100\n",
      "484/484 [==============================] - 6s 12ms/step - loss: 1.0447 - accuracy: 0.8128\n",
      "Epoch 11/100\n",
      "484/484 [==============================] - 6s 12ms/step - loss: 1.0336 - accuracy: 0.8142\n",
      "Epoch 12/100\n",
      "484/484 [==============================] - 6s 12ms/step - loss: 1.0316 - accuracy: 0.8137\n",
      "Epoch 13/100\n",
      "484/484 [==============================] - 6s 12ms/step - loss: 1.0206 - accuracy: 0.8157\n",
      "Epoch 14/100\n",
      "484/484 [==============================] - 6s 12ms/step - loss: 1.0109 - accuracy: 0.8189\n",
      "Epoch 15/100\n",
      "484/484 [==============================] - 6s 12ms/step - loss: 1.0049 - accuracy: 0.8179\n",
      "Epoch 16/100\n",
      "484/484 [==============================] - 6s 12ms/step - loss: 1.0029 - accuracy: 0.8195\n",
      "Epoch 17/100\n",
      "484/484 [==============================] - 6s 12ms/step - loss: 1.0015 - accuracy: 0.8197\n",
      "Epoch 18/100\n",
      "484/484 [==============================] - 6s 12ms/step - loss: 0.9870 - accuracy: 0.8215\n",
      "Epoch 19/100\n",
      "484/484 [==============================] - 6s 12ms/step - loss: 0.9870 - accuracy: 0.8227\n",
      "Epoch 20/100\n",
      "484/484 [==============================] - 6s 12ms/step - loss: 0.9940 - accuracy: 0.8184\n",
      "Epoch 21/100\n",
      "484/484 [==============================] - 6s 12ms/step - loss: 0.9911 - accuracy: 0.8206\n",
      "Epoch 22/100\n",
      "484/484 [==============================] - 6s 12ms/step - loss: 0.9706 - accuracy: 0.8251\n",
      "Epoch 23/100\n",
      "484/484 [==============================] - 6s 12ms/step - loss: 0.9624 - accuracy: 0.8247\n",
      "Epoch 24/100\n",
      "484/484 [==============================] - 6s 12ms/step - loss: 0.9578 - accuracy: 0.8260\n",
      "Epoch 25/100\n",
      "484/484 [==============================] - 6s 12ms/step - loss: 0.9602 - accuracy: 0.8238\n",
      "Epoch 26/100\n",
      "484/484 [==============================] - 6s 12ms/step - loss: 0.9475 - accuracy: 0.8267\n",
      "Epoch 27/100\n",
      "484/484 [==============================] - 6s 12ms/step - loss: 0.9410 - accuracy: 0.8256\n",
      "Epoch 28/100\n",
      "484/484 [==============================] - 6s 12ms/step - loss: 0.9352 - accuracy: 0.8287\n",
      "Epoch 29/100\n",
      "484/484 [==============================] - 6s 12ms/step - loss: 0.9421 - accuracy: 0.8272\n",
      "Epoch 30/100\n",
      "484/484 [==============================] - 6s 12ms/step - loss: 0.9589 - accuracy: 0.8207\n",
      "Epoch 31/100\n",
      "484/484 [==============================] - 6s 12ms/step - loss: 0.9356 - accuracy: 0.8264\n",
      "Epoch 32/100\n",
      "484/484 [==============================] - 6s 12ms/step - loss: 0.9306 - accuracy: 0.8278\n",
      "Epoch 33/100\n",
      "484/484 [==============================] - 6s 12ms/step - loss: 0.9259 - accuracy: 0.8278\n",
      "Epoch 34/100\n",
      "484/484 [==============================] - 6s 12ms/step - loss: 0.9068 - accuracy: 0.8313\n",
      "Epoch 35/100\n",
      "484/484 [==============================] - 6s 12ms/step - loss: 0.9229 - accuracy: 0.8267\n",
      "Epoch 36/100\n",
      "484/484 [==============================] - 6s 12ms/step - loss: 0.9271 - accuracy: 0.8256\n",
      "Epoch 37/100\n",
      "484/484 [==============================] - 6s 12ms/step - loss: 0.9171 - accuracy: 0.8279\n",
      "Epoch 38/100\n",
      "484/484 [==============================] - 6s 12ms/step - loss: 0.9098 - accuracy: 0.8271\n",
      "Epoch 39/100\n",
      "484/484 [==============================] - 6s 13ms/step - loss: 0.8980 - accuracy: 0.8309\n",
      "Epoch 40/100\n",
      "484/484 [==============================] - 6s 12ms/step - loss: 0.8947 - accuracy: 0.8320\n",
      "Epoch 41/100\n",
      "484/484 [==============================] - 6s 12ms/step - loss: 0.8959 - accuracy: 0.8298\n",
      "Epoch 42/100\n",
      "484/484 [==============================] - 6s 12ms/step - loss: 0.9016 - accuracy: 0.8285\n",
      "Epoch 43/100\n",
      "484/484 [==============================] - 6s 12ms/step - loss: 0.8920 - accuracy: 0.8321\n",
      "Epoch 44/100\n",
      "484/484 [==============================] - 6s 12ms/step - loss: 0.8972 - accuracy: 0.8287\n",
      "Epoch 45/100\n",
      "484/484 [==============================] - 6s 12ms/step - loss: 0.8813 - accuracy: 0.8342\n",
      "Epoch 46/100\n",
      "484/484 [==============================] - 6s 12ms/step - loss: 0.8780 - accuracy: 0.8324\n",
      "Epoch 47/100\n",
      "484/484 [==============================] - 6s 12ms/step - loss: 0.8852 - accuracy: 0.8305\n",
      "Epoch 48/100\n",
      "484/484 [==============================] - 6s 12ms/step - loss: 0.8780 - accuracy: 0.8351\n",
      "Epoch 49/100\n",
      "484/484 [==============================] - 6s 12ms/step - loss: 0.8767 - accuracy: 0.8308\n",
      "Epoch 50/100\n",
      "484/484 [==============================] - 6s 12ms/step - loss: 0.8648 - accuracy: 0.8346\n",
      "Epoch 51/100\n",
      "484/484 [==============================] - 6s 12ms/step - loss: 0.8717 - accuracy: 0.8321\n",
      "Epoch 52/100\n",
      "484/484 [==============================] - 6s 12ms/step - loss: 0.8871 - accuracy: 0.8284\n",
      "Epoch 53/100\n",
      "484/484 [==============================] - 6s 12ms/step - loss: 0.8671 - accuracy: 0.8332\n",
      "Epoch 54/100\n",
      "484/484 [==============================] - 6s 12ms/step - loss: 0.8660 - accuracy: 0.8335\n",
      "Epoch 55/100\n",
      "484/484 [==============================] - 6s 12ms/step - loss: 0.8574 - accuracy: 0.8336\n",
      "Epoch 56/100\n",
      "484/484 [==============================] - 6s 12ms/step - loss: 0.8447 - accuracy: 0.8357\n",
      "Epoch 57/100\n",
      "484/484 [==============================] - 6s 12ms/step - loss: 0.8433 - accuracy: 0.8375\n",
      "Epoch 58/100\n",
      "484/484 [==============================] - 6s 12ms/step - loss: 0.8477 - accuracy: 0.8361\n",
      "Epoch 59/100\n",
      "484/484 [==============================] - 6s 12ms/step - loss: 0.8492 - accuracy: 0.8331\n",
      "Epoch 60/100\n",
      "484/484 [==============================] - 6s 12ms/step - loss: 0.8480 - accuracy: 0.8327\n",
      "Epoch 61/100\n",
      "484/484 [==============================] - 6s 12ms/step - loss: 0.8464 - accuracy: 0.8371\n",
      "Epoch 62/100\n",
      "484/484 [==============================] - 6s 12ms/step - loss: 0.8417 - accuracy: 0.8360\n",
      "Epoch 63/100\n",
      "484/484 [==============================] - 6s 12ms/step - loss: 0.8596 - accuracy: 0.8304\n",
      "Epoch 64/100\n",
      "484/484 [==============================] - 6s 12ms/step - loss: 0.8404 - accuracy: 0.8364\n",
      "Epoch 65/100\n",
      "484/484 [==============================] - 6s 12ms/step - loss: 0.8408 - accuracy: 0.8375\n",
      "Epoch 66/100\n",
      "484/484 [==============================] - 6s 12ms/step - loss: 0.8282 - accuracy: 0.8375\n",
      "Epoch 67/100\n",
      "484/484 [==============================] - 6s 12ms/step - loss: 0.8286 - accuracy: 0.8388\n",
      "Epoch 68/100\n",
      "484/484 [==============================] - 6s 11ms/step - loss: 0.8248 - accuracy: 0.8385\n",
      "Epoch 69/100\n",
      "484/484 [==============================] - 5s 11ms/step - loss: 0.8284 - accuracy: 0.8355\n",
      "Epoch 70/100\n",
      "484/484 [==============================] - 6s 11ms/step - loss: 0.8477 - accuracy: 0.8306\n",
      "Epoch 71/100\n",
      "484/484 [==============================] - 6s 12ms/step - loss: 0.8363 - accuracy: 0.8328\n",
      "Epoch 72/100\n",
      "484/484 [==============================] - 6s 12ms/step - loss: 0.8374 - accuracy: 0.8328\n",
      "Epoch 73/100\n",
      "484/484 [==============================] - 6s 12ms/step - loss: 0.8211 - accuracy: 0.8373\n",
      "Epoch 74/100\n",
      "484/484 [==============================] - 6s 12ms/step - loss: 0.8213 - accuracy: 0.8357\n",
      "Epoch 75/100\n",
      "484/484 [==============================] - 6s 12ms/step - loss: 0.8155 - accuracy: 0.8382\n",
      "Epoch 76/100\n",
      "484/484 [==============================] - 6s 12ms/step - loss: 0.8196 - accuracy: 0.8359\n",
      "Epoch 77/100\n",
      "484/484 [==============================] - 6s 12ms/step - loss: 0.8098 - accuracy: 0.8386\n",
      "Epoch 78/100\n",
      "484/484 [==============================] - 6s 12ms/step - loss: 0.8143 - accuracy: 0.8377\n",
      "Epoch 79/100\n",
      "484/484 [==============================] - 6s 12ms/step - loss: 0.8127 - accuracy: 0.8370\n",
      "Epoch 80/100\n",
      "484/484 [==============================] - 6s 12ms/step - loss: 0.8160 - accuracy: 0.8370\n",
      "Epoch 81/100\n",
      "484/484 [==============================] - 6s 12ms/step - loss: 0.8231 - accuracy: 0.8342\n",
      "Epoch 82/100\n",
      "484/484 [==============================] - 6s 11ms/step - loss: 0.8056 - accuracy: 0.8388\n",
      "Epoch 83/100\n",
      "484/484 [==============================] - 5s 11ms/step - loss: 0.8003 - accuracy: 0.8390\n",
      "Epoch 84/100\n",
      "484/484 [==============================] - 6s 11ms/step - loss: 0.8249 - accuracy: 0.8331\n",
      "Epoch 85/100\n",
      "484/484 [==============================] - 5s 11ms/step - loss: 0.8027 - accuracy: 0.8405\n",
      "Epoch 86/100\n",
      "484/484 [==============================] - 6s 11ms/step - loss: 0.7963 - accuracy: 0.8403\n",
      "Epoch 87/100\n",
      "484/484 [==============================] - 5s 11ms/step - loss: 0.8075 - accuracy: 0.8353\n",
      "Epoch 88/100\n",
      "484/484 [==============================] - 5s 11ms/step - loss: 0.8061 - accuracy: 0.8373\n",
      "Epoch 89/100\n",
      "484/484 [==============================] - 6s 11ms/step - loss: 0.8039 - accuracy: 0.8364\n",
      "Epoch 90/100\n",
      "484/484 [==============================] - 6s 11ms/step - loss: 0.8028 - accuracy: 0.8360\n",
      "Epoch 91/100\n",
      "484/484 [==============================] - 5s 11ms/step - loss: 0.7944 - accuracy: 0.8384\n",
      "Epoch 92/100\n",
      "484/484 [==============================] - 5s 11ms/step - loss: 0.7939 - accuracy: 0.8395\n",
      "Epoch 93/100\n",
      "484/484 [==============================] - 6s 12ms/step - loss: 0.7910 - accuracy: 0.8404\n",
      "Epoch 94/100\n",
      "484/484 [==============================] - 6s 12ms/step - loss: 0.7951 - accuracy: 0.8368\n",
      "Epoch 95/100\n",
      "484/484 [==============================] - 6s 12ms/step - loss: 0.7911 - accuracy: 0.8373\n",
      "Epoch 96/100\n",
      "484/484 [==============================] - 5s 11ms/step - loss: 0.7866 - accuracy: 0.8397\n",
      "Epoch 97/100\n",
      "484/484 [==============================] - 5s 11ms/step - loss: 0.7863 - accuracy: 0.8393\n",
      "Epoch 98/100\n",
      "484/484 [==============================] - 5s 11ms/step - loss: 0.7811 - accuracy: 0.8396\n",
      "Epoch 99/100\n",
      "484/484 [==============================] - 5s 11ms/step - loss: 0.7879 - accuracy: 0.8388\n",
      "Epoch 100/100\n",
      "484/484 [==============================] - 5s 11ms/step - loss: 0.7841 - accuracy: 0.8401\n"
     ]
    }
   ],
   "source": [
    " history = model.fit(predictors, label, epochs=100, verbose=1)"
   ]
  },
  {
   "cell_type": "code",
   "execution_count": 7,
   "metadata": {
    "colab": {
     "base_uri": "https://localhost:8080/",
     "height": 545
    },
    "colab_type": "code",
    "id": "1fXTEO3GJ282",
    "outputId": "bfcf18c4-3051-46fe-df28-65de44c89321"
   },
   "outputs": [
    {
     "data": {
      "image/png": "[encoded data removed]",
      "text/plain": [
       "<Figure size 432x288 with 1 Axes>"
      ]
     },
     "metadata": {
      "needs_background": "light",
      "tags": []
     },
     "output_type": "display_data"
    },
    {
     "data": {
      "image/png": "[encoded data removed]",
      "text/plain": [
       "<Figure size 432x288 with 1 Axes>"
      ]
     },
     "metadata": {
      "needs_background": "light",
      "tags": []
     },
     "output_type": "display_data"
    }
   ],
   "source": [
    "import matplotlib.pyplot as plt\n",
    "acc = history.history['accuracy']\n",
    "loss = history.history['loss']\n",
    "\n",
    "epochs = range(len(acc))\n",
    "\n",
    "plt.plot(epochs, acc, 'b', label='Training accuracy')\n",
    "plt.title('Training accuracy')\n",
    "\n",
    "plt.figure()\n",
    "\n",
    "plt.plot(epochs, loss, 'b', label='Training Loss')\n",
    "plt.title('Training loss')\n",
    "plt.legend()\n",
    "\n",
    "plt.show()"
   ]
  },
  {
   "cell_type": "code",
   "execution_count": 8,
   "metadata": {
    "colab": {
     "base_uri": "https://localhost:8080/",
     "height": 107
    },
    "colab_type": "code",
    "id": "6Vc6PHgxa6Hm",
    "outputId": "33263780-64e0-4655-cb1c-426936bb97f6"
   },
   "outputs": [
    {
     "name": "stdout",
     "output_type": "stream",
     "text": [
      "WARNING:tensorflow:From <ipython-input-8-622d307fa19a>:7: Sequential.predict_classes (from tensorflow.python.keras.engine.sequential) is deprecated and will be removed after 2021-01-01.\n",
      "Instructions for updating:\n",
      "Please use instead:* `np.argmax(model.predict(x), axis=-1)`,   if your model does multi-class classification   (e.g. if it uses a `softmax` last-layer activation).* `(model.predict(x) > 0.5).astype(\"int32\")`,   if your model does binary classification   (e.g. if it uses a `sigmoid` last-layer activation).\n",
      "Help me Obi Wan Kenobi, you're my only hope away the purple view ' ride torn torn burn twain joy play him none quite win at hate at pity other pain show bring outward days days bright sing words me say thee new pride write good child of age bring deeds to give fill other done die not new strong rhyme nearly shade die shade torn part show thee commend commend 'will ' can know my deeds to kiss me loving heaven's feature wind cured brought of men joy lie to blind twain die twain new old place thine good part eye more eye doth dwell so much kind\n"
     ]
    }
   ],
   "source": [
    "seed_text = \"Help me Obi Wan Kenobi, you're my only hope\"\n",
    "next_words = 100\n",
    "  \n",
    "for _ in range(next_words):\n",
    "\ttoken_list = tokenizer.texts_to_sequences([seed_text])[0]\n",
    "\ttoken_list = pad_sequences([token_list], maxlen=max_sequence_len-1, padding='pre')\n",
    "\tpredicted = model.predict_classes(token_list, verbose=0)\n",
    "\toutput_word = \"\"\n",
    "\tfor word, index in tokenizer.word_index.items():\n",
    "\t\tif index == predicted:\n",
    "\t\t\toutput_word = word\n",
    "\t\t\tbreak\n",
    "\tseed_text += \" \" + output_word\n",
    "print(seed_text)"
   ]
  }
 ],
 "metadata": {
  "accelerator": "GPU",
  "colab": {
   "name": "NLP_Week4_Exercise_Shakespeare_Answer.ipynb",
   "provenance": [],
   "toc_visible": true
  },
  "kernelspec": {
   "display_name": "Python 3",
   "language": "python",
   "name": "python3"
  },
  "language_info": {
   "codemirror_mode": {
    "name": "ipython",
    "version": 3
   },
   "file_extension": ".py",
   "mimetype": "text/x-python",
   "name": "python",
   "nbconvert_exporter": "python",
   "pygments_lexer": "ipython3",
   "version": "3.7.8"
  }
 },
 "nbformat": 4,
 "nbformat_minor": 1
}
