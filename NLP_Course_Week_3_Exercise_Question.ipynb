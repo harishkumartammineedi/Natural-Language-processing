{
  "nbformat": 4,
  "nbformat_minor": 0,
  "metadata": {
    "accelerator": "GPU",
    "colab": {
      "name": "NLP Course - Week 3 Exercise Question.ipynb",
      "provenance": [],
      "toc_visible": true
    },
    "kernelspec": {
      "display_name": "Python 3",
      "name": "python3"
    }
  },
  "cells": [
    {
      "cell_type": "code",
      "metadata": {
        "id": "zX4Kg8DUTKWO",
        "colab_type": "code",
        "colab": {}
      },
      "source": [
        "#@title Licensed under the Apache License, Version 2.0 (the \"License\");\n",
        "# you may not use this file except in compliance with the License.\n",
        "# You may obtain a copy of the License at\n",
        "#\n",
        "# https://www.apache.org/licenses/LICENSE-2.0\n",
        "#\n",
        "# Unless required by applicable law or agreed to in writing, software\n",
        "# distributed under the License is distributed on an \"AS IS\" BASIS,\n",
        "# WITHOUT WARRANTIES OR CONDITIONS OF ANY KIND, either express or implied.\n",
        "# See the License for the specific language governing permissions and\n",
        "# limitations under the License."
      ],
      "execution_count": null,
      "outputs": []
    },
    {
      "cell_type": "code",
      "metadata": {
        "colab_type": "code",
        "id": "hmA6EzkQJ5jt",
        "colab": {}
      },
      "source": [
        "import json\n",
        "import tensorflow as tf\n",
        "import csv\n",
        "import random\n",
        "import numpy as np\n",
        "\n",
        "from tensorflow.keras.preprocessing.text import Tokenizer\n",
        "from tensorflow.keras.preprocessing.sequence import pad_sequences\n",
        "from tensorflow.keras.utils import to_categorical\n",
        "from tensorflow.keras import regularizers\n",
        "\n",
        "\n",
        "embedding_dim = 100\n",
        "max_length = 16\n",
        "trunc_type='post'\n",
        "padding_type='post'\n",
        "oov_tok = \"<OOV>\"\n",
        "training_size=160000\n",
        "test_portion=.1\n",
        "\n",
        "corpus = []\n"
      ],
      "execution_count": 1,
      "outputs": []
    },
    {
      "cell_type": "code",
      "metadata": {
        "colab_type": "code",
        "id": "bM0l_dORKqE0",
        "colab": {
          "base_uri": "https://localhost:8080/",
          "height": 208
        },
        "outputId": "63b7495f-97a1-4ce2-db84-19176a42814b"
      },
      "source": [
        "# Note that I cleaned the Stanford dataset to remove LATIN1 encoding to make it easier for Python CSV reader\n",
        "# You can do that yourself with:\n",
        "# iconv -f LATIN1 -t UTF8 training.1600000.processed.noemoticon.csv -o training_cleaned.csv\n",
        "# I then hosted it on my site to make it easier to use in this notebook\n",
        "\n",
        "!wget --no-check-certificate \\\n",
        "    https://storage.googleapis.com/laurencemoroney-blog.appspot.com/training_cleaned.csv \\\n",
        "    -O /tmp/training_cleaned.csv\n",
        "\n",
        "num_sentences = 0\n",
        "\n",
        "with open(\"/tmp/training_cleaned.csv\") as csvfile:\n",
        "    reader = csv.reader(csvfile, delimiter=',')\n",
        "    for row in reader:\n",
        "      # Your Code here. Create list items where the first item is the text, found in row[5], and the second is the label. Note that the label is a '0' or a '4' in the text. When it's the former, make\n",
        "      # your label to be 0, otherwise 1. Keep a count of the number of sentences in num_sentences\n",
        "        list_item=[]\n",
        "        list_item.append(row[5])\n",
        "        this_label=row[0]\n",
        "        if this_label=='0':\n",
        "            list_item.append(0)\n",
        "        else:\n",
        "            list_item.append(1)\n",
        "        num_sentences = num_sentences + 1\n",
        "        corpus.append(list_item)\n"
      ],
      "execution_count": 2,
      "outputs": [
        {
          "output_type": "stream",
          "text": [
            "--2020-09-12 03:21:44--  https://storage.googleapis.com/laurencemoroney-blog.appspot.com/training_cleaned.csv\n",
            "Resolving storage.googleapis.com (storage.googleapis.com)... 74.125.28.128, 74.125.142.128, 74.125.195.128, ...\n",
            "Connecting to storage.googleapis.com (storage.googleapis.com)|74.125.28.128|:443... connected.\n",
            "HTTP request sent, awaiting response... 200 OK\n",
            "Length: 238942690 (228M) [application/octet-stream]\n",
            "Saving to: ‘/tmp/training_cleaned.csv’\n",
            "\n",
            "/tmp/training_clean 100%[===================>] 227.87M   177MB/s    in 1.3s    \n",
            "\n",
            "2020-09-12 03:21:45 (177 MB/s) - ‘/tmp/training_cleaned.csv’ saved [238942690/238942690]\n",
            "\n"
          ],
          "name": "stdout"
        }
      ]
    },
    {
      "cell_type": "code",
      "metadata": {
        "colab_type": "code",
        "id": "3kxblBUjEUX-",
        "colab": {
          "base_uri": "https://localhost:8080/",
          "height": 89
        },
        "outputId": "d76d0237-83ef-4800-fdf9-e8e404a320c8"
      },
      "source": [
        "print(num_sentences)\n",
        "print(len(corpus))\n",
        "print(corpus[1])\n",
        "\n",
        "# Expected Output:\n",
        "# 1600000\n",
        "# 1600000\n",
        "# [\"is upset that he can't update his Facebook by texting it... and might cry as a result  School today also. Blah!\", 0]"
      ],
      "execution_count": 3,
      "outputs": [
        {
          "output_type": "stream",
          "text": [
            "1600000\n",
            "1600000\n",
            "[\"is upset that he can't update his Facebook by texting it... and might cry as a result  School today also. Blah!\", 0]\n"
          ],
          "name": "stdout"
        }
      ]
    },
    {
      "cell_type": "code",
      "metadata": {
        "colab_type": "code",
        "id": "ohOGz24lsNAD",
        "colab": {}
      },
      "source": [
        "sentences=[]\n",
        "labels=[]\n",
        "random.shuffle(corpus)\n",
        "for x in range(training_size):\n",
        "    sentences.append(corpus[x][0])\n",
        "    labels.append(corpus[x][1])\n",
        "\n",
        "\n",
        "tokenizer = Tokenizer()\n",
        "tokenizer.fit_on_texts(sentences)\n",
        "\n",
        "word_index = tokenizer.word_index\n",
        "vocab_size=len(word_index)\n",
        "\n",
        "sequences = tokenizer.texts_to_sequences(sentences)\n",
        "padded = pad_sequences(sequences)\n",
        "\n",
        "split = int(test_portion * training_size)\n",
        "\n",
        "test_sequences = padded[0:split]\n",
        "training_sequences = padded[split:training_size]\n",
        "test_labels = labels[0:split]\n",
        "training_labels = labels[split:training_size]"
      ],
      "execution_count": 4,
      "outputs": []
    },
    {
      "cell_type": "code",
      "metadata": {
        "colab_type": "code",
        "id": "gIrtRem1En3N",
        "colab": {
          "base_uri": "https://localhost:8080/",
          "height": 52
        },
        "outputId": "fbc2ce87-64c8-415d-d5dd-3fadbfd52f4f"
      },
      "source": [
        "print(vocab_size)\n",
        "print(word_index['i'])\n",
        "# Expected Output\n",
        "# 138858\n",
        "# 1"
      ],
      "execution_count": 5,
      "outputs": [
        {
          "output_type": "stream",
          "text": [
            "138648\n",
            "1\n"
          ],
          "name": "stdout"
        }
      ]
    },
    {
      "cell_type": "code",
      "metadata": {
        "colab_type": "code",
        "id": "C1zdgJkusRh0",
        "colab": {
          "base_uri": "https://localhost:8080/",
          "height": 208
        },
        "outputId": "5e180664-f2b2-41a7-fc2b-d44226bbcfc0"
      },
      "source": [
        "# Note this is the 100 dimension version of GloVe from Stanford\n",
        "# I unzipped and hosted it on my site to make this notebook easier\n",
        "!wget --no-check-certificate \\\n",
        "    https://storage.googleapis.com/laurencemoroney-blog.appspot.com/glove.6B.100d.txt \\\n",
        "    -O /tmp/glove.6B.100d.txt\n",
        "embeddings_index = {};\n",
        "with open('/tmp/glove.6B.100d.txt') as f:\n",
        "    for line in f:\n",
        "        values = line.split();\n",
        "        word = values[0];\n",
        "        coefs = np.asarray(values[1:], dtype='float32');\n",
        "        embeddings_index[word] = coefs;\n",
        "\n",
        "embeddings_matrix = np.zeros((vocab_size+1, embedding_dim));\n",
        "for word, i in word_index.items():\n",
        "    embedding_vector = embeddings_index.get(word);\n",
        "    if embedding_vector is not None:\n",
        "        embeddings_matrix[i] = embedding_vector;"
      ],
      "execution_count": 6,
      "outputs": [
        {
          "output_type": "stream",
          "text": [
            "--2020-09-12 03:52:27--  https://storage.googleapis.com/laurencemoroney-blog.appspot.com/glove.6B.100d.txt\n",
            "Resolving storage.googleapis.com (storage.googleapis.com)... 74.125.20.128, 74.125.28.128, 74.125.142.128, ...\n",
            "Connecting to storage.googleapis.com (storage.googleapis.com)|74.125.20.128|:443... connected.\n",
            "HTTP request sent, awaiting response... 200 OK\n",
            "Length: 347116733 (331M) [text/plain]\n",
            "Saving to: ‘/tmp/glove.6B.100d.txt’\n",
            "\n",
            "/tmp/glove.6B.100d. 100%[===================>] 331.04M   125MB/s    in 2.7s    \n",
            "\n",
            "2020-09-12 03:52:30 (125 MB/s) - ‘/tmp/glove.6B.100d.txt’ saved [347116733/347116733]\n",
            "\n"
          ],
          "name": "stdout"
        }
      ]
    },
    {
      "cell_type": "code",
      "metadata": {
        "colab_type": "code",
        "id": "71NLk_lpFLNt",
        "colab": {
          "base_uri": "https://localhost:8080/",
          "height": 35
        },
        "outputId": "9f9b067d-e5ed-4829-91bb-7a41ceb911c7"
      },
      "source": [
        "print(len(embeddings_matrix))\n",
        "# Expected Output\n",
        "# 138859"
      ],
      "execution_count": 7,
      "outputs": [
        {
          "output_type": "stream",
          "text": [
            "138649\n"
          ],
          "name": "stdout"
        }
      ]
    },
    {
      "cell_type": "code",
      "metadata": {
        "colab_type": "code",
        "id": "iKKvbuEBOGFz",
        "colab": {
          "base_uri": "https://localhost:8080/",
          "height": 1000
        },
        "outputId": "0abc0083-4152-4d83-fd40-c40fd20f479e"
      },
      "source": [
        "# model = tf.keras.Sequential([\n",
        "#     tf.keras.layers.Embedding(vocab_size+1, embedding_dim, input_length=max_length, weights=[embeddings_matrix], trainable=False),\n",
        "#     tf.keras.layers.Dropout(0.2),\n",
        "#     tf.keras.layers.Conv1D(64, 5, activation='relu'),\n",
        "#     tf.keras.layers.MaxPooling1D(pool_size=4),\n",
        "#     tf.keras.layers.LSTM(64),\n",
        "#     tf.keras.layers.Dense(1, activation='sigmoid')\n",
        "# ])\n",
        "\n",
        "model = tf.keras.Sequential([tf.keras.layers.Embedding(vocab_size+1,embedding_dim,input_length = max_length,weights=[embeddings_matrix],trainable = False),\n",
        "                             tf.keras.layers.Dropout(0.2),\n",
        "                             tf.keras.layers.Conv1D(64,5,activation='relu'),\n",
        "                             tf.keras.layers.MaxPooling1D(pool_size=4),\n",
        "                             tf.keras.layers.LSTM(64),\n",
        "                             tf.keras.layers.Dense(1,activation='sigmoid')])\n",
        "model.compile(loss = 'binary_crossentropy',optimizer='adam',metrics=['accuracy'])\n",
        "model.summary()\n",
        "\n",
        "training_padded = np.array(training_sequences)\n",
        "training_labels = np.array(training_labels)\n",
        "testing_padded = np.array(test_sequences)\n",
        "testing_labels = np.array(test_labels)\n",
        "\n",
        "num_epochs = 50\n",
        "\n",
        "history = model.fit(training_padded, training_labels, epochs=num_epochs, validation_data=(testing_padded, testing_labels), verbose=2)\n",
        "\n",
        "print(\"Training Complete\")"
      ],
      "execution_count": 10,
      "outputs": [
        {
          "output_type": "stream",
          "text": [
            "Model: \"sequential_1\"\n",
            "_________________________________________________________________\n",
            "Layer (type)                 Output Shape              Param #   \n",
            "=================================================================\n",
            "embedding_2 (Embedding)      (None, 16, 100)           13864900  \n",
            "_________________________________________________________________\n",
            "dropout_2 (Dropout)          (None, 16, 100)           0         \n",
            "_________________________________________________________________\n",
            "conv1d_2 (Conv1D)            (None, 12, 64)            32064     \n",
            "_________________________________________________________________\n",
            "max_pooling1d_1 (MaxPooling1 (None, 3, 64)             0         \n",
            "_________________________________________________________________\n",
            "lstm_1 (LSTM)                (None, 64)                33024     \n",
            "_________________________________________________________________\n",
            "dense_1 (Dense)              (None, 1)                 65        \n",
            "=================================================================\n",
            "Total params: 13,930,053\n",
            "Trainable params: 65,153\n",
            "Non-trainable params: 13,864,900\n",
            "_________________________________________________________________\n",
            "Epoch 1/50\n",
            "WARNING:tensorflow:Model was constructed with shape (None, 16) for input Tensor(\"embedding_2_input:0\", shape=(None, 16), dtype=float32), but it was called on an input with incompatible shape (32, 52).\n",
            "WARNING:tensorflow:Model was constructed with shape (None, 16) for input Tensor(\"embedding_2_input:0\", shape=(None, 16), dtype=float32), but it was called on an input with incompatible shape (32, 52).\n",
            "WARNING:tensorflow:Model was constructed with shape (None, 16) for input Tensor(\"embedding_2_input:0\", shape=(None, 16), dtype=float32), but it was called on an input with incompatible shape (32, 52).\n",
            "4500/4500 - 16s - loss: 0.5472 - accuracy: 0.7171 - val_loss: 0.5099 - val_accuracy: 0.7439\n",
            "Epoch 2/50\n",
            "4500/4500 - 16s - loss: 0.5032 - accuracy: 0.7524 - val_loss: 0.4842 - val_accuracy: 0.7679\n",
            "Epoch 3/50\n",
            "4500/4500 - 16s - loss: 0.4858 - accuracy: 0.7627 - val_loss: 0.4734 - val_accuracy: 0.7737\n",
            "Epoch 4/50\n",
            "4500/4500 - 16s - loss: 0.4746 - accuracy: 0.7715 - val_loss: 0.4690 - val_accuracy: 0.7722\n",
            "Epoch 5/50\n",
            "4500/4500 - 16s - loss: 0.4648 - accuracy: 0.7766 - val_loss: 0.4742 - val_accuracy: 0.7732\n",
            "Epoch 6/50\n",
            "4500/4500 - 16s - loss: 0.4579 - accuracy: 0.7809 - val_loss: 0.4682 - val_accuracy: 0.7766\n",
            "Epoch 7/50\n",
            "4500/4500 - 16s - loss: 0.4512 - accuracy: 0.7856 - val_loss: 0.4666 - val_accuracy: 0.7757\n",
            "Epoch 8/50\n",
            "4500/4500 - 16s - loss: 0.4465 - accuracy: 0.7875 - val_loss: 0.4634 - val_accuracy: 0.7809\n",
            "Epoch 9/50\n",
            "4500/4500 - 16s - loss: 0.4404 - accuracy: 0.7914 - val_loss: 0.4654 - val_accuracy: 0.7786\n",
            "Epoch 10/50\n",
            "4500/4500 - 16s - loss: 0.4356 - accuracy: 0.7941 - val_loss: 0.4699 - val_accuracy: 0.7742\n",
            "Epoch 11/50\n",
            "4500/4500 - 16s - loss: 0.4331 - accuracy: 0.7961 - val_loss: 0.4692 - val_accuracy: 0.7763\n",
            "Epoch 12/50\n",
            "4500/4500 - 16s - loss: 0.4298 - accuracy: 0.7981 - val_loss: 0.4709 - val_accuracy: 0.7779\n",
            "Epoch 13/50\n",
            "4500/4500 - 16s - loss: 0.4271 - accuracy: 0.8001 - val_loss: 0.4714 - val_accuracy: 0.7731\n",
            "Epoch 14/50\n",
            "4500/4500 - 15s - loss: 0.4247 - accuracy: 0.8015 - val_loss: 0.4714 - val_accuracy: 0.7787\n",
            "Epoch 15/50\n",
            "4500/4500 - 16s - loss: 0.4227 - accuracy: 0.8014 - val_loss: 0.4690 - val_accuracy: 0.7759\n",
            "Epoch 16/50\n",
            "4500/4500 - 15s - loss: 0.4207 - accuracy: 0.8040 - val_loss: 0.4716 - val_accuracy: 0.7739\n",
            "Epoch 17/50\n",
            "4500/4500 - 16s - loss: 0.4187 - accuracy: 0.8033 - val_loss: 0.4736 - val_accuracy: 0.7734\n",
            "Epoch 18/50\n",
            "4500/4500 - 16s - loss: 0.4167 - accuracy: 0.8060 - val_loss: 0.4748 - val_accuracy: 0.7737\n",
            "Epoch 19/50\n",
            "4500/4500 - 15s - loss: 0.4152 - accuracy: 0.8065 - val_loss: 0.4768 - val_accuracy: 0.7735\n",
            "Epoch 20/50\n",
            "4500/4500 - 17s - loss: 0.4124 - accuracy: 0.8077 - val_loss: 0.4787 - val_accuracy: 0.7728\n",
            "Epoch 21/50\n",
            "4500/4500 - 16s - loss: 0.4149 - accuracy: 0.8064 - val_loss: 0.4747 - val_accuracy: 0.7706\n",
            "Epoch 22/50\n",
            "4500/4500 - 16s - loss: 0.4123 - accuracy: 0.8083 - val_loss: 0.4807 - val_accuracy: 0.7713\n",
            "Epoch 23/50\n",
            "4500/4500 - 16s - loss: 0.4107 - accuracy: 0.8102 - val_loss: 0.4833 - val_accuracy: 0.7687\n",
            "Epoch 24/50\n",
            "4500/4500 - 16s - loss: 0.4107 - accuracy: 0.8087 - val_loss: 0.4811 - val_accuracy: 0.7706\n",
            "Epoch 25/50\n",
            "4500/4500 - 15s - loss: 0.4093 - accuracy: 0.8096 - val_loss: 0.4802 - val_accuracy: 0.7736\n",
            "Epoch 26/50\n",
            "4500/4500 - 15s - loss: 0.4090 - accuracy: 0.8106 - val_loss: 0.4792 - val_accuracy: 0.7734\n",
            "Epoch 27/50\n",
            "4500/4500 - 16s - loss: 0.4077 - accuracy: 0.8112 - val_loss: 0.4795 - val_accuracy: 0.7690\n",
            "Epoch 28/50\n",
            "4500/4500 - 15s - loss: 0.4055 - accuracy: 0.8133 - val_loss: 0.4794 - val_accuracy: 0.7699\n",
            "Epoch 29/50\n",
            "4500/4500 - 15s - loss: 0.4056 - accuracy: 0.8120 - val_loss: 0.4828 - val_accuracy: 0.7712\n",
            "Epoch 30/50\n",
            "4500/4500 - 15s - loss: 0.4043 - accuracy: 0.8126 - val_loss: 0.4837 - val_accuracy: 0.7730\n",
            "Epoch 31/50\n",
            "4500/4500 - 15s - loss: 0.4033 - accuracy: 0.8148 - val_loss: 0.4818 - val_accuracy: 0.7730\n",
            "Epoch 32/50\n",
            "4500/4500 - 15s - loss: 0.4032 - accuracy: 0.8128 - val_loss: 0.4867 - val_accuracy: 0.7687\n",
            "Epoch 33/50\n",
            "4500/4500 - 16s - loss: 0.4032 - accuracy: 0.8131 - val_loss: 0.4865 - val_accuracy: 0.7722\n",
            "Epoch 34/50\n",
            "4500/4500 - 15s - loss: 0.4021 - accuracy: 0.8142 - val_loss: 0.4803 - val_accuracy: 0.7734\n",
            "Epoch 35/50\n",
            "4500/4500 - 15s - loss: 0.4033 - accuracy: 0.8135 - val_loss: 0.4841 - val_accuracy: 0.7726\n",
            "Epoch 36/50\n",
            "4500/4500 - 15s - loss: 0.4039 - accuracy: 0.8133 - val_loss: 0.4832 - val_accuracy: 0.7734\n",
            "Epoch 37/50\n",
            "4500/4500 - 15s - loss: 0.4021 - accuracy: 0.8141 - val_loss: 0.4859 - val_accuracy: 0.7703\n",
            "Epoch 38/50\n",
            "4500/4500 - 16s - loss: 0.4021 - accuracy: 0.8143 - val_loss: 0.4868 - val_accuracy: 0.7704\n",
            "Epoch 39/50\n",
            "4500/4500 - 15s - loss: 0.4020 - accuracy: 0.8139 - val_loss: 0.4848 - val_accuracy: 0.7747\n",
            "Epoch 40/50\n",
            "4500/4500 - 17s - loss: 0.4009 - accuracy: 0.8142 - val_loss: 0.4875 - val_accuracy: 0.7719\n",
            "Epoch 41/50\n",
            "4500/4500 - 15s - loss: 0.4020 - accuracy: 0.8142 - val_loss: 0.4838 - val_accuracy: 0.7726\n",
            "Epoch 42/50\n",
            "4500/4500 - 15s - loss: 0.4000 - accuracy: 0.8158 - val_loss: 0.4864 - val_accuracy: 0.7714\n",
            "Epoch 43/50\n",
            "4500/4500 - 15s - loss: 0.4019 - accuracy: 0.8140 - val_loss: 0.4901 - val_accuracy: 0.7722\n",
            "Epoch 44/50\n",
            "4500/4500 - 16s - loss: 0.3986 - accuracy: 0.8155 - val_loss: 0.4940 - val_accuracy: 0.7692\n",
            "Epoch 45/50\n",
            "4500/4500 - 15s - loss: 0.3983 - accuracy: 0.8158 - val_loss: 0.4885 - val_accuracy: 0.7704\n",
            "Epoch 46/50\n",
            "4500/4500 - 15s - loss: 0.3997 - accuracy: 0.8156 - val_loss: 0.4852 - val_accuracy: 0.7721\n",
            "Epoch 47/50\n",
            "4500/4500 - 15s - loss: 0.3999 - accuracy: 0.8166 - val_loss: 0.4856 - val_accuracy: 0.7711\n",
            "Epoch 48/50\n",
            "4500/4500 - 16s - loss: 0.3990 - accuracy: 0.8153 - val_loss: 0.4857 - val_accuracy: 0.7736\n",
            "Epoch 49/50\n",
            "4500/4500 - 15s - loss: 0.3999 - accuracy: 0.8147 - val_loss: 0.4825 - val_accuracy: 0.7693\n",
            "Epoch 50/50\n",
            "4500/4500 - 15s - loss: 0.3983 - accuracy: 0.8165 - val_loss: 0.4933 - val_accuracy: 0.7721\n",
            "Training Complete\n"
          ],
          "name": "stdout"
        }
      ]
    },
    {
      "cell_type": "code",
      "metadata": {
        "colab_type": "code",
        "id": "qxju4ItJKO8F",
        "colab": {
          "base_uri": "https://localhost:8080/",
          "height": 608
        },
        "outputId": "08c23c79-6576-4d62-8646-c9c18ad79a0c"
      },
      "source": [
        "import matplotlib.image  as mpimg\n",
        "import matplotlib.pyplot as plt\n",
        "\n",
        "#-----------------------------------------------------------\n",
        "# Retrieve a list of list results on training and test data\n",
        "# sets for each training epoch\n",
        "#-----------------------------------------------------------\n",
        "acc=history.history['accuracy']\n",
        "val_acc=history.history['val_accuracy']\n",
        "loss=history.history['loss']\n",
        "val_loss=history.history['val_loss']\n",
        "\n",
        "epochs=range(len(acc)) # Get number of epochs\n",
        "\n",
        "#------------------------------------------------\n",
        "# Plot training and validation accuracy per epoch\n",
        "#------------------------------------------------\n",
        "plt.plot(epochs, acc, 'r')\n",
        "plt.plot(epochs, val_acc, 'b')\n",
        "plt.title('Training and validation accuracy')\n",
        "plt.xlabel(\"Epochs\")\n",
        "plt.ylabel(\"Accuracy\")\n",
        "plt.legend([\"Accuracy\", \"Validation Accuracy\"])\n",
        "\n",
        "plt.figure()\n",
        "\n",
        "#------------------------------------------------\n",
        "# Plot training and validation loss per epoch\n",
        "#------------------------------------------------\n",
        "plt.plot(epochs, loss, 'r')\n",
        "plt.plot(epochs, val_loss, 'b')\n",
        "plt.title('Training and validation loss')\n",
        "plt.xlabel(\"Epochs\")\n",
        "plt.ylabel(\"Loss\")\n",
        "plt.legend([\"Loss\", \"Validation Loss\"])\n",
        "\n",
        "plt.figure()\n",
        "\n",
        "\n",
        "# Expected Output\n",
        "# A chart where the validation loss does not increase sharply!"
      ],
      "execution_count": 11,
      "outputs": [
        {
          "output_type": "execute_result",
          "data": {
            "text/plain": [
              "<Figure size 432x288 with 0 Axes>"
            ]
          },
          "metadata": {
            "tags": []
          },
          "execution_count": 11
        },
        {
          "output_type": "display_data",
          "data": {
            "image/png": "[encoded data removed]",
            "text/plain": [
              "<Figure size 432x288 with 1 Axes>"
            ]
          },
          "metadata": {
            "tags": [],
            "needs_background": "light"
          }
        },
        {
          "output_type": "display_data",
          "data": {
            "image/png": "[encoded data removed]",
            "text/plain": [
              "<Figure size 432x288 with 1 Axes>"
            ]
          },
          "metadata": {
            "tags": [],
            "needs_background": "light"
          }
        },
        {
          "output_type": "display_data",
          "data": {
            "text/plain": [
              "<Figure size 432x288 with 0 Axes>"
            ]
          },
          "metadata": {
            "tags": []
          }
        }
      ]
    }
  ]
}